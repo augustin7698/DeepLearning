{
 "cells": [
  {
   "attachments": {},
   "cell_type": "markdown",
   "metadata": {},
   "source": [
    "# import Library"
   ]
  },
  {
   "cell_type": "code",
   "execution_count": 3,
   "metadata": {},
   "outputs": [],
   "source": [
    "import numpy as np\n",
    "import matplotlib.pyplot as plt\n",
    "from sklearn.metrics import accuracy_score, log_loss\n",
    "from tqdm import tqdm"
   ]
  },
  {
   "cell_type": "markdown",
   "metadata": {},
   "source": [
    "# Fonctions"
   ]
  },
  {
   "cell_type": "code",
   "execution_count": 7,
   "metadata": {},
   "outputs": [],
   "source": [
    "def predict(X, parametres = None, file = None):\n",
    "     if (file != None):\n",
    "          with open(file, 'r') as f:\n",
    "               parametres = eval(f.read().replace(\"array\", \"np.array\"))\n",
    "     C = len(parametres) // 2\n",
    "     activations = {'A0': X}\n",
    "     for c in range(1, C + 1):\n",
    "          Z = parametres['W' + str(c)].dot(activations['A' + str(c - 1)]) + parametres['b' + str(c)]\n",
    "          activations['A' + str(c)] = 1 / (1 + np.exp(-Z))\n",
    "     \n",
    "     return activations['A' + str(C)]"
   ]
  },
  {
   "cell_type": "code",
   "execution_count": 6,
   "metadata": {},
   "outputs": [],
   "source": [
    "def deep_neural_network(X, y, hidden_layers = (16, 16, 16), learning_rate = 0.001, n_iter = 3000, file = \"params.txt\"):\n",
    "\n",
    "    # récupération des parametres\n",
    "    # si le fichier n'existe pas, il sera créé\n",
    "    try: \n",
    "        with open(file, 'r') as f:\n",
    "            parametres = eval(f.read().replace(\"array\", \"np.array\"))\n",
    "    except:\n",
    "        # initialisation parametres\n",
    "        dimensions = list(hidden_layers)\n",
    "        dimensions.insert(0, X.shape[0])\n",
    "        dimensions.append(y.shape[0])\n",
    "        np.random.seed(1)\n",
    "        parametres = {}\n",
    "        C = len(dimensions)\n",
    "        np.random.seed(1)\n",
    "        for c in range(1, C):\n",
    "            parametres['W' + str(c)] = np.random.randn(dimensions[c], dimensions[c - 1])\n",
    "            parametres['b' + str(c)] = np.random.randn(dimensions[c], 1)\n",
    "\n",
    "    # tableau numpy contenant les futures accuracy et log_loss\n",
    "    training_history = np.zeros((int(n_iter), 2))\n",
    "\n",
    "    C = len(parametres) // 2\n",
    "\n",
    "    # gradient descent\n",
    "    for i in tqdm(range(n_iter)):\n",
    "        # forward propagation\n",
    "        activations = {'A0': X}\n",
    "        for c in range(1, C + 1):\n",
    "            Z = parametres['W' + str(c)].dot(activations['A' + str(c - 1)]) + parametres['b' + str(c)]\n",
    "            activations['A' + str(c)] = 1 / (1 + np.exp(-Z))\n",
    "\n",
    "        # back propagation\n",
    "        m = y.shape[1]\n",
    "        dZ = activations['A' + str(C)] - y\n",
    "        gradients = {}\n",
    "\n",
    "        for c in reversed(range(1, C + 1)):\n",
    "            gradients['dW' + str(c)] = 1/m * np.dot(dZ, activations['A' + str(c - 1)].T)\n",
    "            gradients['db' + str(c)] = 1/m * np.sum(dZ, axis=1, keepdims=True)\n",
    "            if c > 1:\n",
    "                dZ = np.dot(parametres['W' + str(c)].T, dZ) * activations['A' + str(c - 1)] * (1 - activations['A' + str(c - 1)])\n",
    "\n",
    "        # update\n",
    "        for c in range(1, C + 1):\n",
    "            parametres['W' + str(c)] = parametres['W' + str(c)] - learning_rate * gradients['dW' + str(c)]\n",
    "            parametres['b' + str(c)] = parametres['b' + str(c)] - learning_rate * gradients['db' + str(c)]\n",
    "            \n",
    "        Af = activations['A' + str(C)]\n",
    "\n",
    "        # calcul du log_loss et de l'accuracy\n",
    "        training_history[i, 0] = (log_loss(y.flatten(), Af.flatten()))\n",
    "        y_pred = predict(X, parametres) >= 0.5\n",
    "        training_history[i, 1] = (accuracy_score(y.flatten(), y_pred.flatten()))\n",
    "    \n",
    "    # sauvegarde des parametres dans un fichier\n",
    "    with open(file, 'w') as f:\n",
    "        f.write(str(parametres))\n",
    "\n",
    "    # Plot courbe d'apprentissage\n",
    "    plt.figure(figsize=(12, 4))\n",
    "    plt.subplot(1, 2, 1)\n",
    "    plt.plot(training_history[:, 0], label = 'train loss')\n",
    "    plt.legend()\n",
    "    plt.subplot(1, 2, 2)\n",
    "    plt.plot(training_history[:, 1], label = 'train accuracy')\n",
    "    plt.legend()\n",
    "    plt.show()\n",
    "\n",
    "    return training_history"
   ]
  },
  {
   "attachments": {},
   "cell_type": "markdown",
   "metadata": {},
   "source": [
    "# Dataset"
   ]
  },
  {
   "cell_type": "code",
   "execution_count": 5,
   "metadata": {},
   "outputs": [],
   "source": [
    "# example of a dataset\n",
    "X = [[0, 0], [0, 1], [1, 0], [1, 1]]\n",
    "X = np.array(X).T\n",
    "y = np.array([[0, 0, 0, 1]])"
   ]
  },
  {
   "attachments": {},
   "cell_type": "markdown",
   "metadata": {},
   "source": [
    "# Training"
   ]
  },
  {
   "cell_type": "code",
   "execution_count": 8,
   "metadata": {},
   "outputs": [
    {
     "name": "stderr",
     "output_type": "stream",
     "text": [
      "100%|██████████| 1000/1000 [00:03<00:00, 257.06it/s]\n"
     ]
    },
    {
     "data": {
      "image/png": "[encoded data removed]",
      "text/plain": [
       "<Figure size 1200x400 with 2 Axes>"
      ]
     },
     "metadata": {},
     "output_type": "display_data"
    },
    {
     "name": "stdout",
     "output_type": "stream",
     "text": [
      "train loss: 0.024725251318516796 & train accuracy: 1.0\n"
     ]
    }
   ],
   "source": [
    "result = deep_neural_network(X, y, hidden_layers = (16, 16, 16), learning_rate = 0.1, n_iter = 1000, file = \"params.txt\");\n",
    "print(f\"train loss: { result[result.shape[0] - 1, 0] } & train accuracy: { result[result.shape[0] - 1, 1] }\")"
   ]
  },
  {
   "attachments": {},
   "cell_type": "markdown",
   "metadata": {},
   "source": [
    "# Testing"
   ]
  },
  {
   "cell_type": "code",
   "execution_count": 22,
   "metadata": {},
   "outputs": [
    {
     "name": "stdout",
     "output_type": "stream",
     "text": [
      "0.0044545141205753055\n"
     ]
    }
   ],
   "source": [
    "test = [0, 0]; # inssert your test data here\n",
    "test = np.array(test).T\n",
    "\n",
    "print(predict(test, file = \"params.txt\")[0][0])"
   ]
  }
 ],
 "metadata": {
  "kernelspec": {
   "display_name": "Python 3",
   "language": "python",
   "name": "python3"
  },
  "language_info": {
   "codemirror_mode": {
    "name": "ipython",
    "version": 3
   },
   "file_extension": ".py",
   "mimetype": "text/x-python",
   "name": "python",
   "nbconvert_exporter": "python",
   "pygments_lexer": "ipython3",
   "version": "3.11.1"
  },
  "orig_nbformat": 4,
  "vscode": {
   "interpreter": {
    "hash": "9b4d75ac280b6c7c3aa43866cb82dc88915409b55fec83a093dd0284cb58708e"
   }
  }
 },
 "nbformat": 4,
 "nbformat_minor": 2
}
